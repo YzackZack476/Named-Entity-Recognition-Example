{
 "cells": [
  {
   "cell_type": "markdown",
   "metadata": {},
   "source": [
    "Importacion de librerias"
   ]
  },
  {
   "cell_type": "code",
   "execution_count": null,
   "metadata": {},
   "outputs": [],
   "source": [
    "# python -m spacy download es_core_news_sm"
   ]
  },
  {
   "cell_type": "code",
   "execution_count": null,
   "metadata": {},
   "outputs": [],
   "source": [
    "import spacy\n",
    "import string\n",
    "import unicodedata\n",
    "from spacy.lang.es import STOP_WORDS as ES_STOP_WORDS\n",
    "# from spacy.lang.es.examples import sentences #Solo para testear con más ejemplos\n",
    "# from nltk.corpus import stopwords"
   ]
  },
  {
   "cell_type": "markdown",
   "metadata": {},
   "source": [
    "Procesamiento"
   ]
  },
  {
   "cell_type": "code",
   "execution_count": null,
   "metadata": {},
   "outputs": [],
   "source": [
    "NER = spacy.load(\"es_core_news_sm\")"
   ]
  },
  {
   "cell_type": "code",
   "execution_count": null,
   "metadata": {},
   "outputs": [],
   "source": [
    "data_input={\n",
    "    \"oraciones\": [\n",
    "        \"Apple está buscando comprar una, startup del Reino Unido por mil millones de dólares.\",\n",
    "        \"San Francisco considera prohibir los robots de entrega en la acera.\"\n",
    "    ]\n",
    "}"
   ]
  },
  {
   "cell_type": "code",
   "execution_count": null,
   "metadata": {},
   "outputs": [],
   "source": [
    "doc_array = tuple([NER(phrase) for phrase in data_input['oraciones']])"
   ]
  },
  {
   "cell_type": "code",
   "execution_count": null,
   "metadata": {},
   "outputs": [],
   "source": [
    "def clean_token(token_phrase):\n",
    "    token_phrase_noaccent = unicodedata.normalize(\"NFKD\", token_phrase.text).encode(\"ASCII\", \"ignore\").decode(\"utf-8\")\n",
    "    token_phrase_nopunctuation =  token_phrase_noaccent.translate(str.maketrans(\"\", \"\", string.punctuation))\n",
    "    return NER(token_phrase_nopunctuation)"
   ]
  },
  {
   "cell_type": "code",
   "execution_count": null,
   "metadata": {},
   "outputs": [],
   "source": [
    "doc_array_cleaner = tuple([clean_token(token_prhase) for token_prhase in doc_array])"
   ]
  },
  {
   "cell_type": "code",
   "execution_count": null,
   "metadata": {},
   "outputs": [],
   "source": [
    "doc_simple_array = tuple([\" \".join([token.text for token in doc if token.text not in ES_STOP_WORDS]) for doc in doc_array_cleaner])\n",
    "doc_simple_array = tuple([NER(phrase) for phrase in doc_simple_array])"
   ]
  },
  {
   "cell_type": "markdown",
   "metadata": {},
   "source": [
    "Organizar para enviar"
   ]
  },
  {
   "cell_type": "code",
   "execution_count": null,
   "metadata": {},
   "outputs": [],
   "source": [
    "result_dict = {\n",
    "    \"resultado\":[\n",
    "        \n",
    "    ]\n",
    "}"
   ]
  },
  {
   "cell_type": "code",
   "execution_count": null,
   "metadata": {},
   "outputs": [],
   "source": [
    "for phrase_org, token_phrase in zip(doc_array, doc_simple_array):\n",
    "    entities = {}\n",
    "    for word in token_phrase.ents:\n",
    "        entities[word.text] = word.label_\n",
    "    \n",
    "    result_dict[\"resultado\"].append({\n",
    "        \"oracion\":phrase_org.text,\n",
    "        \"entidades\":entities\n",
    "    })"
   ]
  },
  {
   "cell_type": "markdown",
   "metadata": {},
   "source": [
    "Validacion"
   ]
  },
  {
   "cell_type": "code",
   "execution_count": null,
   "metadata": {},
   "outputs": [],
   "source": [
    "result_dict"
   ]
  }
 ],
 "metadata": {
  "kernelspec": {
   "display_name": "campeche",
   "language": "python",
   "name": "python3"
  },
  "language_info": {
   "codemirror_mode": {
    "name": "ipython",
    "version": 3
   },
   "file_extension": ".py",
   "mimetype": "text/x-python",
   "name": "python",
   "nbconvert_exporter": "python",
   "pygments_lexer": "ipython3",
   "version": "3.8.15"
  },
  "orig_nbformat": 4
 },
 "nbformat": 4,
 "nbformat_minor": 2
}
